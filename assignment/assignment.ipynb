{
  "cells": [
    {
      "cell_type": "markdown",
      "id": "13ad028b-72b7-43ed-aa78-96fd4e518040",
      "metadata": {
        "id": "13ad028b-72b7-43ed-aa78-96fd4e518040"
      },
      "source": [
        "# Assignment: Data Wrangling\n",
        "## `! git clone https://github.com/DS3001/wrangling`\n",
        "## Do Q2, and one of Q1 or Q3."
      ]
    },
    {
      "cell_type": "markdown",
      "id": "5735a4d4-8be8-433a-a351-70eb8002e632",
      "metadata": {
        "id": "5735a4d4-8be8-433a-a351-70eb8002e632"
      },
      "source": [
        "**Q1.** Open the \"tidy_data.pdf\" document in the repo, which is a paper called Tidy Data by Hadley Wickham.\n",
        "\n",
        "  1. Read the abstract. What is this paper about?\n",
        "  2. Read the introduction. What is the \"tidy data standard\" intended to accomplish?\n",
        "  3. Read the intro to section 2. What does this sentence mean: \"Like families, tidy datasets are all alike but every messy dataset is messy in its own way.\" What does this sentence mean: \"For a given dataset, it’s usually easy to figure out what are observations and what are variables, but it is surprisingly difficult to precisely define variables and observations in general.\"\n",
        "  4. Read Section 2.2. How does Wickham define values, variables, and observations?\n",
        "  5. How is \"Tidy Data\" defined in section 2.3?\n",
        "  6. Read the intro to Section 3 and Section 3.1. What are the 5 most common problems with messy datasets? Why are the data in Table 4 messy? What is \"melting\" a dataset?\n",
        "  7. Why, specifically, is table 11 messy but table 12 tidy and \"molten\"?\n",
        "  8. Read Section 6. What is the \"chicken-and-egg\" problem with focusing on tidy data? What does Wickham hope happens in the future with further work on the subject of data wrangling?"
      ]
    },
    {
      "cell_type": "markdown",
      "id": "7f05ca57",
      "metadata": {},
      "source": [
        "1. The paper is about a framework of a set of tools to easily tidy datasets.\n",
        "\n",
        "2. The \"tidy data standard\" is intended to help in data analysis by simplifying the process with tools that structure and organize the data. This simplifies and standardizes the process of data cleaning.\n",
        "\n",
        "3. It means there are common factors that make a family \"tidy\", but many different kinds of factors that make them \"messy\" and more unique. By standardizing, tidy is achieved. The second sentence explains that it is easy tofind the observations and variables, but the analyst should more consciously make those choices.\n",
        "\n",
        "4. Wichkam defines values as usually either numbers (if quantitative) or strings (if qualitative), variables as containing all values that measure the same underlying attribute across units, and observations as containing all values measured on the same unit across attributes.\n",
        "\n",
        "5. Tidy Data is defined as a standard way of mapping the meaning of a dataset to its structure.\n",
        "\n",
        "6. The five most common problems with messy datasets are:\n",
        "    1. column headers are values, not variable names\n",
        "    2. multiple variables are stored in one column\n",
        "    3. variables are stored in both rows and columns\n",
        "    4. multiple types of observational units are stored in the same table\n",
        "    5. a single observational unit is stored in multiple tables\n",
        "The data in Table 4 are messy because the columns are all values of the variable \"income\" which needs to be added as a new column.\n",
        "\"Melting\" a dataset is when you turn columns into rows.\n",
        "\n",
        "7. Table 11 is messy and Table 12 is tidy and \"molten\" because Table 11 has the dates as values, but Table 12 melts the dates into the \"Date\" variable, and Table 12's entries are all attributes.\n",
        "\n",
        "8. The \"chicken-and-egg\" problem with focusing on tidy data is that he doesn't want the tidy data standard to just be about providing certain tools, but rather a new philosophy of data cleaning. Wickham hopes that the tidy data ideas create a larger ecosystem of ideas and tools for data science."
      ]
    },
    {
      "cell_type": "markdown",
      "id": "da879ea7-8aac-48a3-b6c2-daea56d2e072",
      "metadata": {
        "id": "da879ea7-8aac-48a3-b6c2-daea56d2e072"
      },
      "source": [
        "**Q2.** This question provides some practice cleaning variables which have common problems.\n",
        "1. Numeric variable: For `./data/airbnb_hw.csv`, clean the `Price` variable as well as you can, and explain the choices you make. How many missing values do you end up with? (Hint: What happens to the formatting when a price goes over 999 dollars, say from 675 to 1,112?)\n",
        "2. Categorical variable: For the `./data/sharks.csv` data covered in the lecture, clean the \"Type\" variable as well as you can, and explain the choices you make.\n",
        "3. Dummy variable: For the pretrial data covered in the lecture, clean the `WhetherDefendantWasReleasedPretrial` variable as well as you can, and, in particular, replace missing values with `np.nan`.\n",
        "4. Missing values, not at random: For the pretrial data covered in the lecture, clean the `ImposedSentenceAllChargeInContactEvent` variable as well as you can, and explain the choices you make. (Hint: Look at the `SentenceTypeAllChargesAtConvictionInContactEvent` variable.)"
      ]
    },
    {
      "cell_type": "code",
      "execution_count": 3,
      "id": "8efb6afd",
      "metadata": {},
      "outputs": [
        {
          "name": "stdout",
          "output_type": "stream",
          "text": [
            "Cleaning the Price variable in the airbnb_hw.csv file...\n",
            "0        145\n",
            "1         37\n",
            "2         28\n",
            "3        199\n",
            "4        549\n",
            "        ... \n",
            "30473    300\n",
            "30474    125\n",
            "30475     80\n",
            "30476     35\n",
            "30477     80\n",
            "Name: Price, Length: 30478, dtype: int64\n",
            "\n",
            "\n",
            "Missing values:  0\n",
            "\n",
            "\n",
            "Cleaning the Type variable in the sharks.csv file...\n",
            "Unprovoked         4716\n",
            "Provoked            593\n",
            "Boating related     583\n",
            "Name: Type, dtype: int64\n",
            "\n",
            "\n",
            "Cleaning the WhetherDefendantWasReleasedPretrial variable in the VirginiaPretrialData2017.csv file...\n",
            "\n",
            "\n",
            "[nan  0.  1.]\n",
            "Cleaning the ImposedSentenceAllChargeInContactEvent variable in the VirginiaPretrialData2017.csv file...\n",
            "\n",
            "\n",
            "SentenceTypeAllChargesAtConvictionInContactEvent     0     1    2     4    9\n",
            "ImposedSentenceAllChargeInContactEvent                                      \n",
            "False                                             8720  4299  914  8779    0\n",
            "True                                                 0     0    0     0  274\n"
          ]
        }
      ],
      "source": [
        "import numpy as numpy\n",
        "import pandas as pd\n",
        "\n",
        "print(\"Cleaning the Price variable in the airbnb_hw.csv file...\")\n",
        "df = pd.read_csv('./data/airbnb_hw.csv',low_memory=False) # loading the data\n",
        "# print(df['Property Type'])\n",
        "# print(df['Price'])\n",
        "num_var = df['Price'] # length: 30478\n",
        "# print(num_var.unique())\n",
        "num_var = num_var.str.replace(',','') # clean by removing commas (commas indicate str when these are numbers)\n",
        "num_var = pd.to_numeric(num_var, errors='coerce') # coerce the variable to numeric\n",
        "print(num_var)\n",
        "print('\\n')\n",
        "\n",
        "print('Missing values: ', sum(num_var.isnull())) # there are 0 missing values\n",
        "\n",
        "print('\\n')\n",
        "\n",
        "print(\"Cleaning the Type variable in the sharks.csv file...\")\n",
        "df2 = pd.read_csv('./data/sharks.csv',low_memory=False) # loading the data\n",
        "cat_var = df2[\"Type\"]\n",
        "# too many row names, will combine similar ones to make the information less confusing and easier to read\n",
        "\n",
        "# print(cat_var.unique())\n",
        "# print(cat_var.value_counts())\n",
        "# cat_var = cat_var.replace(['Invalid','Questionable','Unconfirmed','Unverified','Under investigation'], 'Not verified')\n",
        "cat_var = cat_var.replace(['Invalid','Questionable','Unconfirmed','Unverified','Under investigation'], numpy.nan)\n",
        "\n",
        "cat_var = cat_var.replace(['Sea Disaster', 'Watercraft', 'Boat', 'Boating', 'Boatomg'], 'Boating related')\n",
        "\n",
        "df2['Type'] = cat_var\n",
        "del cat_var\n",
        "\n",
        "print(df2['Type'].value_counts())\n",
        "print('\\n')\n",
        "print(\"Cleaning the WhetherDefendantWasReleasedPretrial variable in the VirginiaPretrialData2017.csv file...\")\n",
        "print(\"\\n\")\n",
        "# replace missing values with np.nan\n",
        "\n",
        "\n",
        "# df3 = pd.read_csv('./data/pretrial_data.csv',low_memory=False) # loading the data\n",
        "# dum_var = df3['WhetherDefendantWasReleasedPretrial']\n",
        "# print(df3.head())\n",
        "\n",
        "url = 'http://www.vcsc.virginia.gov/pretrialdataproject/October%202017%20Cohort_Virginia%20Pretrial%20Data%20Project_Deidentified%20FINAL%20Update_10272021.csv'\n",
        "df3 = pd.read_csv(url,low_memory=False) # Pandas downloads and loads the .csv file for you\n",
        "dum_var = df3['WhetherDefendantWasReleasedPretrial']\n",
        "\n",
        "dum_var = dum_var.replace(9, numpy.nan) # 9s are unclear\n",
        "df3['WhetherDefendantWasReleasedPretrial'] = dum_var\n",
        "print(dum_var.unique())\n",
        "# print(sum(dum_var.isnull())) # \n",
        "\n",
        "del dum_var\n",
        "\n",
        "print(\"Cleaning the ImposedSentenceAllChargeInContactEvent variable in the VirginiaPretrialData2017.csv file...\")\n",
        "print(\"\\n\")\n",
        "\n",
        "#(Hint: Look at the `SentenceTypeAllChargesAtConvictionInContactEvent` variable.)\n",
        "\n",
        "miss_val = df3['ImposedSentenceAllChargeInContactEvent']\n",
        "miss_val_type = df3['SentenceTypeAllChargesAtConvictionInContactEvent']\n",
        "\n",
        "miss_val = pd.to_numeric(miss_val, errors='coerce') # coerce the variable to numeric\n",
        "\n",
        "# print(pd.crosstab(miss_val.isnull(), miss_val_type), '\\n')\n",
        "miss_val = miss_val.mask(miss_val_type == 4, 0) # replace with 0\n",
        "miss_val = miss_val.mask(miss_val_type == 9, numpy.nan)  # replace 9 with null\n",
        "\n",
        "df3['ImposedSentenceAllChargeInContactEvent'] = miss_val\n",
        "print(pd.crosstab(miss_val.isnull(), miss_val_type)) # less missing values now\n",
        "del miss_val, miss_val_type\n",
        "\n"
      ]
    },
    {
      "cell_type": "markdown",
      "id": "649494cd-cfd6-4f80-992a-9994fc19e1d5",
      "metadata": {
        "id": "649494cd-cfd6-4f80-992a-9994fc19e1d5"
      },
      "source": [
        "**Q3.** Many important datasets contain a race variable, typically limited to a handful of values often including Black, White, Asian, Latino, and Indigenous. This question looks at data gathering efforts on this variable by the U.S. Federal government.\n",
        "\n",
        "1. How did the most recent US Census gather data on race?\n",
        "2. Why do we gather these data? What role do these kinds of data play in politics and society? Why does data quality matter?\n",
        "3. Please provide a constructive criticism of how the Census was conducted: What was done well? What do you think was missing? How should future large scale surveys be adjusted to best reflect the diversity of the population? Could some of the Census' good practices be adopted more widely to gather richer and more useful data?\n",
        "4. How did the Census gather data on sex and gender? Please provide a similar constructive criticism of their practices.\n",
        "5. When it comes to cleaning data, what concerns do you have about protected characteristics like sex, gender, sexual identity, or race? What challenges can you imagine arising when there are missing values? What good or bad practices might people adopt, and why?\n",
        "6. Suppose someone invented an algorithm to impute values for protected characteristics like race, gender, sex, or sexuality. What kinds of concerns would you have?"
      ]
    }
  ],
  "metadata": {
    "colab": {
      "provenance": []
    },
    "kernelspec": {
      "display_name": "Python 3 (ipykernel)",
      "language": "python",
      "name": "python3"
    },
    "language_info": {
      "codemirror_mode": {
        "name": "ipython",
        "version": 3
      },
      "file_extension": ".py",
      "mimetype": "text/x-python",
      "name": "python",
      "nbconvert_exporter": "python",
      "pygments_lexer": "ipython3",
      "version": "3.9.1"
    }
  },
  "nbformat": 4,
  "nbformat_minor": 5
}
